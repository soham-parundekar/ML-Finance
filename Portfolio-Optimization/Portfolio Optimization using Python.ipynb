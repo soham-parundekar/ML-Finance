{
 "cells": [
  {
   "cell_type": "markdown",
   "id": "65513f08",
   "metadata": {},
   "source": [
    "<h1><center><u> Portfolio Optimization </u></center></h1>"
   ]
  },
  {
   "cell_type": "markdown",
   "id": "72183b35",
   "metadata": {},
   "source": [
    "<h3 style=\"color:blue;\"> (1) Import Python Libraries </h3>"
   ]
  },
  {
   "cell_type": "code",
   "execution_count": 1,
   "id": "cff83e44",
   "metadata": {},
   "outputs": [],
   "source": [
    "import pathlib\n",
    "import numpy as np\n",
    "import pandas as pd\n",
    "import matplotlib.pyplot as plt\n",
    "import scipy.optimize as sci_opt\n",
    "\n",
    "from pprint import pprint\n",
    "from sklearn.preprocessing import StandardScaler\n",
    "\n",
    "from pandas_datareader import data as web\n",
    "from datetime import datetime\n",
    "from alpha_vantage.timeseries import TimeSeries\n",
    "import time"
   ]
  },
  {
   "cell_type": "code",
   "execution_count": 27,
   "id": "fd58c115",
   "metadata": {},
   "outputs": [
    {
     "name": "stderr",
     "output_type": "stream",
     "text": [
      "<ipython-input-27-eb736239aa8c>:1: FutureWarning: Passing a negative integer is deprecated in version 1.0 and will not be supported in future version. Instead, use None to not limit the column width.\n",
      "  pd.set_option('display.max_colwidth', -1)\n"
     ]
    }
   ],
   "source": [
    "pd.set_option('display.max_colwidth', -1)\n",
    "pd.set_option('expand_frame_repr', False)"
   ]
  },
  {
   "cell_type": "markdown",
   "id": "819222c3",
   "metadata": {},
   "source": [
    "<h3 style=\"color:blue;\"> (2) Loading the Data Set </h3>"
   ]
  },
  {
   "cell_type": "code",
   "execution_count": 45,
   "id": "57cc5591",
   "metadata": {},
   "outputs": [],
   "source": [
    "assets = ['META', 'AMZN', 'AAPL', 'NFLX', 'GOOGL', 'MSFT']\n",
    "number_of_assets = len(assets)"
   ]
  },
  {
   "cell_type": "code",
   "execution_count": 54,
   "id": "773318b2",
   "metadata": {},
   "outputs": [],
   "source": [
    "api_key = 'HWI0SV3ZF6AMLE1D'\n",
    "ts = TimeSeries(key=api_key, output_format='pandas')"
   ]
  },
  {
   "cell_type": "code",
   "execution_count": 49,
   "id": "6d0731f5",
   "metadata": {},
   "outputs": [
    {
     "name": "stdout",
     "output_type": "stream",
     "text": [
      "Data saved to stock_data.csv\n"
     ]
    }
   ],
   "source": [
    "df = pd.DataFrame(columns=['date', 'symbol', 'volume', 'close', 'open', 'high', 'low'])\n",
    "\n",
    "for stock in assets:\n",
    "    df_stock, _ = ts.get_daily(symbol=stock, outputsize='full')\n",
    "    df_stock.rename(columns={'4. close': 'close', '1. open': 'open', '2. high': 'high', '3. low': 'low', '5. volume': 'volume'}, inplace=True)\n",
    "    df_stock['symbol'] = stock\n",
    "    df_stock['date'] = df_stock.index\n",
    "    df = df.append(df_stock[['date', 'symbol', 'volume', 'close', 'open', 'high', 'low']], ignore_index=True)\n",
    "    \n",
    "    time.sleep(12)\n",
    "    \n",
    "csv_filename = 'stock_data.csv'\n",
    "df.to_csv(csv_filename, index=False)\n",
    "print(f\"Data saved to {csv_filename}\")"
   ]
  },
  {
   "cell_type": "code",
   "execution_count": 3,
   "id": "da28a80b",
   "metadata": {},
   "outputs": [
    {
     "data": {
      "text/html": [
       "<div>\n",
       "<style scoped>\n",
       "    .dataframe tbody tr th:only-of-type {\n",
       "        vertical-align: middle;\n",
       "    }\n",
       "\n",
       "    .dataframe tbody tr th {\n",
       "        vertical-align: top;\n",
       "    }\n",
       "\n",
       "    .dataframe thead th {\n",
       "        text-align: right;\n",
       "    }\n",
       "</style>\n",
       "<table border=\"1\" class=\"dataframe\">\n",
       "  <thead>\n",
       "    <tr style=\"text-align: right;\">\n",
       "      <th></th>\n",
       "      <th>date</th>\n",
       "      <th>symbol</th>\n",
       "      <th>volume</th>\n",
       "      <th>close</th>\n",
       "      <th>open</th>\n",
       "      <th>high</th>\n",
       "      <th>low</th>\n",
       "    </tr>\n",
       "  </thead>\n",
       "  <tbody>\n",
       "    <tr>\n",
       "      <th>0</th>\n",
       "      <td>2023-08-21</td>\n",
       "      <td>META</td>\n",
       "      <td>20181475.0</td>\n",
       "      <td>289.90</td>\n",
       "      <td>283.450</td>\n",
       "      <td>290.50</td>\n",
       "      <td>281.85</td>\n",
       "    </tr>\n",
       "    <tr>\n",
       "      <th>1</th>\n",
       "      <td>2023-08-18</td>\n",
       "      <td>META</td>\n",
       "      <td>35347925.0</td>\n",
       "      <td>283.25</td>\n",
       "      <td>279.030</td>\n",
       "      <td>285.69</td>\n",
       "      <td>274.38</td>\n",
       "    </tr>\n",
       "    <tr>\n",
       "      <th>2</th>\n",
       "      <td>2023-08-17</td>\n",
       "      <td>META</td>\n",
       "      <td>23950089.0</td>\n",
       "      <td>285.09</td>\n",
       "      <td>293.050</td>\n",
       "      <td>296.05</td>\n",
       "      <td>284.95</td>\n",
       "    </tr>\n",
       "    <tr>\n",
       "      <th>3</th>\n",
       "      <td>2023-08-16</td>\n",
       "      <td>META</td>\n",
       "      <td>18547741.0</td>\n",
       "      <td>294.29</td>\n",
       "      <td>300.195</td>\n",
       "      <td>301.08</td>\n",
       "      <td>294.28</td>\n",
       "    </tr>\n",
       "    <tr>\n",
       "      <th>4</th>\n",
       "      <td>2023-08-15</td>\n",
       "      <td>META</td>\n",
       "      <td>11623613.0</td>\n",
       "      <td>301.95</td>\n",
       "      <td>306.140</td>\n",
       "      <td>307.23</td>\n",
       "      <td>300.03</td>\n",
       "    </tr>\n",
       "  </tbody>\n",
       "</table>\n",
       "</div>"
      ],
      "text/plain": [
       "         date symbol      volume   close     open    high     low\n",
       "0  2023-08-21   META  20181475.0  289.90  283.450  290.50  281.85\n",
       "1  2023-08-18   META  35347925.0  283.25  279.030  285.69  274.38\n",
       "2  2023-08-17   META  23950089.0  285.09  293.050  296.05  284.95\n",
       "3  2023-08-16   META  18547741.0  294.29  300.195  301.08  294.28\n",
       "4  2023-08-15   META  11623613.0  301.95  306.140  307.23  300.03"
      ]
     },
     "execution_count": 3,
     "metadata": {},
     "output_type": "execute_result"
    }
   ],
   "source": [
    "path = r\"D:\\IITG\\portfolio_finance\\portfolio_optimization\\stock_data.csv\"\n",
    "price_data_frame: pd.DataFrame = pd.read_csv(path)\n",
    "price_data_frame.head()"
   ]
  },
  {
   "cell_type": "markdown",
   "id": "06d0970c",
   "metadata": {},
   "source": [
    "<h3 style=\"color:blue;\"> (3) Cleaning the Data </h3>"
   ]
  },
  {
   "cell_type": "code",
   "execution_count": 4,
   "id": "90c834df",
   "metadata": {},
   "outputs": [],
   "source": [
    "stockStartDate = '2015-01-01'\n",
    "today = datetime.today().strftime('%Y-%m-%d')"
   ]
  },
  {
   "cell_type": "code",
   "execution_count": 5,
   "id": "00938b54",
   "metadata": {},
   "outputs": [],
   "source": [
    "price_data_frame = price_data_frame[['date', 'symbol', 'close']]\n",
    "price_data_frame = price_data_frame[(price_data_frame['date'] >= stockStartDate) & (price_data_frame['date'] <= today)]"
   ]
  },
  {
   "cell_type": "code",
   "execution_count": 6,
   "id": "6ac60743",
   "metadata": {},
   "outputs": [
    {
     "data": {
      "text/html": [
       "<div>\n",
       "<style scoped>\n",
       "    .dataframe tbody tr th:only-of-type {\n",
       "        vertical-align: middle;\n",
       "    }\n",
       "\n",
       "    .dataframe tbody tr th {\n",
       "        vertical-align: top;\n",
       "    }\n",
       "\n",
       "    .dataframe thead th {\n",
       "        text-align: right;\n",
       "    }\n",
       "</style>\n",
       "<table border=\"1\" class=\"dataframe\">\n",
       "  <thead>\n",
       "    <tr style=\"text-align: right;\">\n",
       "      <th>symbol</th>\n",
       "      <th>AAPL</th>\n",
       "      <th>AMZN</th>\n",
       "      <th>GOOG</th>\n",
       "      <th>META</th>\n",
       "      <th>MSFT</th>\n",
       "      <th>NFLX</th>\n",
       "    </tr>\n",
       "    <tr>\n",
       "      <th>date</th>\n",
       "      <th></th>\n",
       "      <th></th>\n",
       "      <th></th>\n",
       "      <th></th>\n",
       "      <th></th>\n",
       "      <th></th>\n",
       "    </tr>\n",
       "  </thead>\n",
       "  <tbody>\n",
       "    <tr>\n",
       "      <th>2015-01-02</th>\n",
       "      <td>109.33</td>\n",
       "      <td>308.52</td>\n",
       "      <td>524.81</td>\n",
       "      <td>78.450</td>\n",
       "      <td>46.760</td>\n",
       "      <td>348.940</td>\n",
       "    </tr>\n",
       "    <tr>\n",
       "      <th>2015-01-05</th>\n",
       "      <td>106.25</td>\n",
       "      <td>302.19</td>\n",
       "      <td>513.87</td>\n",
       "      <td>77.190</td>\n",
       "      <td>46.325</td>\n",
       "      <td>331.180</td>\n",
       "    </tr>\n",
       "    <tr>\n",
       "      <th>2015-01-06</th>\n",
       "      <td>106.26</td>\n",
       "      <td>295.29</td>\n",
       "      <td>501.96</td>\n",
       "      <td>76.150</td>\n",
       "      <td>45.650</td>\n",
       "      <td>325.510</td>\n",
       "    </tr>\n",
       "    <tr>\n",
       "      <th>2015-01-07</th>\n",
       "      <td>107.75</td>\n",
       "      <td>298.42</td>\n",
       "      <td>501.10</td>\n",
       "      <td>76.150</td>\n",
       "      <td>46.230</td>\n",
       "      <td>327.200</td>\n",
       "    </tr>\n",
       "    <tr>\n",
       "      <th>2015-01-08</th>\n",
       "      <td>111.89</td>\n",
       "      <td>300.46</td>\n",
       "      <td>502.68</td>\n",
       "      <td>78.175</td>\n",
       "      <td>47.590</td>\n",
       "      <td>334.455</td>\n",
       "    </tr>\n",
       "  </tbody>\n",
       "</table>\n",
       "</div>"
      ],
      "text/plain": [
       "symbol        AAPL    AMZN    GOOG    META    MSFT     NFLX\n",
       "date                                                       \n",
       "2015-01-02  109.33  308.52  524.81  78.450  46.760  348.940\n",
       "2015-01-05  106.25  302.19  513.87  77.190  46.325  331.180\n",
       "2015-01-06  106.26  295.29  501.96  76.150  45.650  325.510\n",
       "2015-01-07  107.75  298.42  501.10  76.150  46.230  327.200\n",
       "2015-01-08  111.89  300.46  502.68  78.175  47.590  334.455"
      ]
     },
     "execution_count": 6,
     "metadata": {},
     "output_type": "execute_result"
    }
   ],
   "source": [
    "price_data_frame = price_data_frame.pivot(\n",
    "    index='date',\n",
    "    columns='symbol',\n",
    "    values='close'\n",
    ")\n",
    "\n",
    "price_data_frame.head()"
   ]
  },
  {
   "cell_type": "markdown",
   "id": "4e0e33da",
   "metadata": {},
   "source": [
    "***\n",
    "<h3 style=\"color:blue;\"> (4) Calculating Sharpe Ratio </h3>"
   ]
  },
  {
   "cell_type": "markdown",
   "id": "5226f13e",
   "metadata": {},
   "source": [
    "The `Sharpe Ratio`, is used is a measure for calculating risk-adjusted return and has been the industry standard for such calculations. The `Sharpe Ratio` allows us to quantify the relationship the average return earned in excess of the risk-free rate per unit of volatility or total risk.\n",
    "\n",
    "Mathematically, we define the `Sharpe Ratio` as the following:\n",
    "\n",
    "\\begin{equation*}\n",
    "\\text{Sharpe Ratio} = \\frac{(R_p - R_f)}{\\sigma_p}\n",
    "\\end{equation*}\n",
    "\n",
    "Where:\n",
    "\n",
    "$\n",
    "\\begin{align}\n",
    "\\ R_p & = \\text{Return of Portfolio} \\\\\n",
    "\\ R_f & = \\text{Risk-Free Rate} \\\\\n",
    "\\ \\sigma_p & = \\text{Standard Deviation of Portfolio's Excess Return} \\\\\n",
    "\\end{align}\n",
    "$\n",
    "\n",
    "To calculate the `expected returns`, we use the following formula:\n",
    "\n",
    "\\begin{equation*}\n",
    "\\ R_p = (w_{1}r_{1}) + (w_{2}r_{2}) + \\cdots + (w_{n}r_{n})\n",
    "\\end{equation*}\n",
    "\n",
    "Where:\n",
    "\n",
    "$\n",
    "\\begin{align}\n",
    "\\ r_{i} & = \\text{Return of Security i} \\\\\n",
    "\\ w_{i} & = \\text{Weight of Security i} \\\\\n",
    "\\end{align}\n",
    "$\n",
    "\n",
    "To calculate the `standard deviation of the portfolio`, we use the following formula:\n",
    "\n",
    "\\begin{equation*}\n",
    "\\ \\sigma_p = \\sqrt{(w_{i}^2 \\sigma_i^2) + (w_{j}^2 \\sigma_j^2) + (2w_{j}w_{i} p_{i,j} \\sigma_i \\sigma_j)}\n",
    "\\end{equation*}\n",
    "\n",
    "Where:\n",
    "\n",
    "$\n",
    "\\begin{align}\n",
    "\\ \\sigma_{i} & = \\text{Standard Deviation of Returns for Security i} \\\\\n",
    "\\ w_{i} & = \\text{Weight of Security i} \\\\\n",
    "\\ p_{i,j} & = \\text{Correlation Coefficent between the returns of asset i and asset j} \\\\\n",
    "\\end{align}\n",
    "$"
   ]
  },
  {
   "cell_type": "code",
   "execution_count": 48,
   "id": "3fdcc8f3",
   "metadata": {},
   "outputs": [
    {
     "data": {
      "text/html": [
       "<div>\n",
       "<style scoped>\n",
       "    .dataframe tbody tr th:only-of-type {\n",
       "        vertical-align: middle;\n",
       "    }\n",
       "\n",
       "    .dataframe tbody tr th {\n",
       "        vertical-align: top;\n",
       "    }\n",
       "\n",
       "    .dataframe thead th {\n",
       "        text-align: right;\n",
       "    }\n",
       "</style>\n",
       "<table border=\"1\" class=\"dataframe\">\n",
       "  <thead>\n",
       "    <tr style=\"text-align: right;\">\n",
       "      <th>symbol</th>\n",
       "      <th>AAPL</th>\n",
       "      <th>AMZN</th>\n",
       "      <th>GOOG</th>\n",
       "      <th>META</th>\n",
       "      <th>MSFT</th>\n",
       "      <th>NFLX</th>\n",
       "    </tr>\n",
       "    <tr>\n",
       "      <th>date</th>\n",
       "      <th></th>\n",
       "      <th></th>\n",
       "      <th></th>\n",
       "      <th></th>\n",
       "      <th></th>\n",
       "      <th></th>\n",
       "    </tr>\n",
       "  </thead>\n",
       "  <tbody>\n",
       "    <tr>\n",
       "      <th>2015-01-02</th>\n",
       "      <td>NaN</td>\n",
       "      <td>NaN</td>\n",
       "      <td>NaN</td>\n",
       "      <td>NaN</td>\n",
       "      <td>NaN</td>\n",
       "      <td>NaN</td>\n",
       "    </tr>\n",
       "    <tr>\n",
       "      <th>2015-01-05</th>\n",
       "      <td>-0.028576</td>\n",
       "      <td>-0.020731</td>\n",
       "      <td>-0.021066</td>\n",
       "      <td>-0.016192</td>\n",
       "      <td>-0.009346</td>\n",
       "      <td>-0.052238</td>\n",
       "    </tr>\n",
       "    <tr>\n",
       "      <th>2015-01-06</th>\n",
       "      <td>0.000094</td>\n",
       "      <td>-0.023098</td>\n",
       "      <td>-0.023450</td>\n",
       "      <td>-0.013565</td>\n",
       "      <td>-0.014678</td>\n",
       "      <td>-0.017269</td>\n",
       "    </tr>\n",
       "    <tr>\n",
       "      <th>2015-01-07</th>\n",
       "      <td>0.013925</td>\n",
       "      <td>0.010544</td>\n",
       "      <td>-0.001715</td>\n",
       "      <td>0.000000</td>\n",
       "      <td>0.012625</td>\n",
       "      <td>0.005178</td>\n",
       "    </tr>\n",
       "    <tr>\n",
       "      <th>2015-01-08</th>\n",
       "      <td>0.037703</td>\n",
       "      <td>0.006813</td>\n",
       "      <td>0.003148</td>\n",
       "      <td>0.026245</td>\n",
       "      <td>0.028994</td>\n",
       "      <td>0.021931</td>\n",
       "    </tr>\n",
       "  </tbody>\n",
       "</table>\n",
       "</div>"
      ],
      "text/plain": [
       "symbol          AAPL      AMZN      GOOG      META      MSFT      NFLX\n",
       "date                                                                  \n",
       "2015-01-02 NaN       NaN       NaN       NaN       NaN       NaN      \n",
       "2015-01-05 -0.028576 -0.020731 -0.021066 -0.016192 -0.009346 -0.052238\n",
       "2015-01-06  0.000094 -0.023098 -0.023450 -0.013565 -0.014678 -0.017269\n",
       "2015-01-07  0.013925  0.010544 -0.001715  0.000000  0.012625  0.005178\n",
       "2015-01-08  0.037703  0.006813  0.003148  0.026245  0.028994  0.021931"
      ]
     },
     "execution_count": 48,
     "metadata": {},
     "output_type": "execute_result"
    }
   ],
   "source": [
    "# Calculate the Log of returns.\n",
    "log_return = np.log(1 + price_data_frame.pct_change())\n",
    "log_return.head()"
   ]
  },
  {
   "cell_type": "code",
   "execution_count": 49,
   "id": "a8992a3c",
   "metadata": {},
   "outputs": [
    {
     "data": {
      "text/plain": [
       "array([0.19438222, 0.08157005, 0.81494142, 0.65581664, 0.97832522,\n",
       "       0.54393883])"
      ]
     },
     "execution_count": 49,
     "metadata": {},
     "output_type": "execute_result"
    }
   ],
   "source": [
    "# Generate Random Weights.\n",
    "random_weights = np.array(np.random.random(number_of_assets))\n",
    "random_weights"
   ]
  },
  {
   "cell_type": "code",
   "execution_count": 50,
   "id": "573c76e3",
   "metadata": {},
   "outputs": [
    {
     "data": {
      "text/plain": [
       "array([0.05946276, 0.0249528 , 0.24929575, 0.20061847, 0.29927589,\n",
       "       0.16639434])"
      ]
     },
     "execution_count": 50,
     "metadata": {},
     "output_type": "execute_result"
    }
   ],
   "source": [
    "# Generate the Rebalance Weights, these should equal 1.\n",
    "rebalance_weights = random_weights / np.sum(random_weights)\n",
    "rebalance_weights"
   ]
  },
  {
   "cell_type": "code",
   "execution_count": 51,
   "id": "468b4003",
   "metadata": {},
   "outputs": [
    {
     "data": {
      "text/plain": [
       "0.060717761915546134"
      ]
     },
     "execution_count": 51,
     "metadata": {},
     "output_type": "execute_result"
    }
   ],
   "source": [
    "# Calculate the Expected Returns, annualize it by multiplying it by `252`.\n",
    "exp_ret = np.sum((log_return.mean() * rebalance_weights) * 252)\n",
    "exp_ret"
   ]
  },
  {
   "cell_type": "code",
   "execution_count": 52,
   "id": "9bd408da",
   "metadata": {},
   "outputs": [
    {
     "data": {
      "text/plain": [
       "0.39190876828430865"
      ]
     },
     "execution_count": 52,
     "metadata": {},
     "output_type": "execute_result"
    }
   ],
   "source": [
    "# Calculate the Expected Volatility, annualize it by multiplying it by `252`.\n",
    "exp_vol = np.sqrt(\n",
    "np.dot(\n",
    "    rebalance_weights.T,\n",
    "    np.dot(\n",
    "        log_return.cov() * 252,\n",
    "        rebalance_weights\n",
    "    )\n",
    ")\n",
    ")\n",
    "exp_vol"
   ]
  },
  {
   "cell_type": "code",
   "execution_count": 53,
   "id": "cd0ffdc9",
   "metadata": {},
   "outputs": [
    {
     "data": {
      "text/plain": [
       "0.1549283068642615"
      ]
     },
     "execution_count": 53,
     "metadata": {},
     "output_type": "execute_result"
    }
   ],
   "source": [
    "# Calculate the Sharpe Ratio.\n",
    "sharpe_ratio = exp_ret / exp_vol\n",
    "sharpe_ratio"
   ]
  },
  {
   "cell_type": "code",
   "execution_count": 54,
   "id": "02e821e6",
   "metadata": {},
   "outputs": [
    {
     "name": "stdout",
     "output_type": "stream",
     "text": [
      "\n",
      "==================================================\n",
      "PORTFOLIO WEIGHTS:\n",
      "--------------------------------------------------\n",
      "   random_weights  rebalance_weights\n",
      "0  0.194382        0.059463         \n",
      "1  0.081570        0.024953         \n",
      "2  0.814941        0.249296         \n",
      "3  0.655817        0.200618         \n",
      "4  0.978325        0.299276         \n",
      "5  0.543939        0.166394         \n",
      "--------------------------------------------------\n"
     ]
    }
   ],
   "source": [
    "# Put the weights into a data frame to see them better.\n",
    "weights_df = pd.DataFrame(data={\n",
    "'random_weights': random_weights,\n",
    "'rebalance_weights': rebalance_weights\n",
    "})\n",
    "print('')\n",
    "print('='*50)\n",
    "print('PORTFOLIO WEIGHTS:')\n",
    "print('-'*50)\n",
    "print(weights_df)\n",
    "print('-'*50)"
   ]
  },
  {
   "cell_type": "code",
   "execution_count": 55,
   "id": "2b9d0d2c",
   "metadata": {},
   "outputs": [
    {
     "name": "stdout",
     "output_type": "stream",
     "text": [
      "\n",
      "==========================================================================================\n",
      "PORTFOLIO METRICS:\n",
      "------------------------------------------------------------------------------------------\n",
      "   Expected Portfolio Returns  Expected Portfolio Volatility  Portfolio Sharpe Ratio\n",
      "0  0.060718                    0.391909                       0.154928              \n",
      "------------------------------------------------------------------------------------------\n"
     ]
    }
   ],
   "source": [
    "# Do the same with the other metrics.\n",
    "metrics_df = pd.DataFrame(data={\n",
    "    'Expected Portfolio Returns': exp_ret,\n",
    "    'Expected Portfolio Volatility': exp_vol,\n",
    "    'Portfolio Sharpe Ratio': sharpe_ratio\n",
    "}, index=[0])\n",
    "\n",
    "print('')\n",
    "print('='*90)\n",
    "print('PORTFOLIO METRICS:')\n",
    "print('-'*90)\n",
    "print(metrics_df)\n",
    "print('-'*90)"
   ]
  },
  {
   "cell_type": "markdown",
   "id": "a0aadbc5",
   "metadata": {},
   "source": [
    "***\n",
    "<h3 style=\"color:blue;\"> (5) Portfolio Optimization : Running Monte Carlo Simulation </h3>"
   ]
  },
  {
   "cell_type": "markdown",
   "id": "1d1123eb",
   "metadata": {},
   "source": [
    "Monte Carlo simulations are used to model the probability of different outcomes in a process that cannot easily be predicted due to the intervention of random variables. It is a technique used to understand the impact of risk and uncertainty in prediction and forecasting models."
   ]
  },
  {
   "cell_type": "code",
   "execution_count": 56,
   "id": "63d702fc",
   "metadata": {},
   "outputs": [],
   "source": [
    "# We will run 5000 iterations.\n",
    "num_of_portfolios = 5000"
   ]
  },
  {
   "cell_type": "code",
   "execution_count": 58,
   "id": "f85b67a5",
   "metadata": {},
   "outputs": [],
   "source": [
    "# Prep an array to store the weights as they are generated, 5000 iterations for each of our 4 symbols.\n",
    "all_weights = np.zeros((num_of_portfolios, number_of_assets))\n",
    "\n",
    "# Prep an array to store the returns as they are generated, 5000 possible return values.\n",
    "ret_arr = np.zeros(num_of_portfolios)\n",
    "\n",
    "# Prep an array to store the volatilities as they are generated, 5000 possible volatility values.\n",
    "vol_arr = np.zeros(num_of_portfolios)\n",
    "\n",
    "# Prep an array to store the sharpe ratios as they are generated, 5000 possible Sharpe Ratios.\n",
    "sharpe_arr = np.zeros(num_of_portfolios)"
   ]
  },
  {
   "cell_type": "code",
   "execution_count": 59,
   "id": "13181c54",
   "metadata": {},
   "outputs": [],
   "source": [
    "# Start the simulations.\n",
    "for ind in range(num_of_portfolios):\n",
    "\n",
    "    # First, calculate the weights.\n",
    "    weights = np.array(np.random.random(number_of_assets))\n",
    "    weights = weights / np.sum(weights)\n",
    "\n",
    "    # Add the weights, to the `weights_arrays`.\n",
    "    all_weights[ind, :] = weights\n",
    "\n",
    "    # Calculate the expected log returns, and add them to the `returns_array`.\n",
    "    ret_arr[ind] = np.sum((log_return.mean() * weights) * 252)\n",
    "\n",
    "    # Calculate the volatility, and add them to the `volatility_array`.\n",
    "    vol_arr[ind] = np.sqrt(\n",
    "        np.dot(weights.T, np.dot(log_return.cov() * 252, weights))\n",
    "    )\n",
    "\n",
    "    # Calculate the Sharpe Ratio and Add it to the `sharpe_ratio_array`.\n",
    "    sharpe_arr[ind] = ret_arr[ind]/vol_arr[ind]"
   ]
  },
  {
   "cell_type": "code",
   "execution_count": 65,
   "id": "f3558dd4",
   "metadata": {},
   "outputs": [
    {
     "data": {
      "text/html": [
       "<div>\n",
       "<style scoped>\n",
       "    .dataframe tbody tr th:only-of-type {\n",
       "        vertical-align: middle;\n",
       "    }\n",
       "\n",
       "    .dataframe tbody tr th {\n",
       "        vertical-align: top;\n",
       "    }\n",
       "\n",
       "    .dataframe thead th {\n",
       "        text-align: right;\n",
       "    }\n",
       "</style>\n",
       "<table border=\"1\" class=\"dataframe\">\n",
       "  <thead>\n",
       "    <tr style=\"text-align: right;\">\n",
       "      <th></th>\n",
       "      <th>Returns</th>\n",
       "      <th>Volatility</th>\n",
       "      <th>Sharpe Ratio</th>\n",
       "      <th>Portfolio Weights</th>\n",
       "    </tr>\n",
       "  </thead>\n",
       "  <tbody>\n",
       "    <tr>\n",
       "      <th>0</th>\n",
       "      <td>0.037474</td>\n",
       "      <td>0.403915</td>\n",
       "      <td>0.092778</td>\n",
       "      <td>[0.15760031320746729, 0.2521816043266357, 0.13442656261036467, 0.1613812251140267, 0.2193196901918524, 0.07509060454965322]</td>\n",
       "    </tr>\n",
       "    <tr>\n",
       "      <th>1</th>\n",
       "      <td>0.101986</td>\n",
       "      <td>0.364177</td>\n",
       "      <td>0.280045</td>\n",
       "      <td>[0.161912130351683, 0.01444301121439593, 0.0187123767963907, 0.30223935976837063, 0.206711820594815, 0.29598130127434474]</td>\n",
       "    </tr>\n",
       "    <tr>\n",
       "      <th>2</th>\n",
       "      <td>0.039241</td>\n",
       "      <td>0.379845</td>\n",
       "      <td>0.103308</td>\n",
       "      <td>[0.24284465697753363, 0.07558232995370391, 0.16903906861362336, 0.1186067412841262, 0.17259667376572496, 0.2213305294052879]</td>\n",
       "    </tr>\n",
       "    <tr>\n",
       "      <th>3</th>\n",
       "      <td>0.051213</td>\n",
       "      <td>0.389795</td>\n",
       "      <td>0.131384</td>\n",
       "      <td>[0.05425825934348524, 0.19139141595587986, 0.09869162365766704, 0.27476310180423524, 0.16581580043975436, 0.2150797987989784]</td>\n",
       "    </tr>\n",
       "    <tr>\n",
       "      <th>4</th>\n",
       "      <td>0.010418</td>\n",
       "      <td>0.453962</td>\n",
       "      <td>0.022950</td>\n",
       "      <td>[0.0911606195984837, 0.24414633884271253, 0.13606032908716834, 0.07754506319337028, 0.15102577822124463, 0.3000618710570206]</td>\n",
       "    </tr>\n",
       "  </tbody>\n",
       "</table>\n",
       "</div>"
      ],
      "text/plain": [
       "    Returns  Volatility  Sharpe Ratio                                                                                                              Portfolio Weights\n",
       "0  0.037474  0.403915    0.092778      [0.15760031320746729, 0.2521816043266357, 0.13442656261036467, 0.1613812251140267, 0.2193196901918524, 0.07509060454965322]  \n",
       "1  0.101986  0.364177    0.280045      [0.161912130351683, 0.01444301121439593, 0.0187123767963907, 0.30223935976837063, 0.206711820594815, 0.29598130127434474]    \n",
       "2  0.039241  0.379845    0.103308      [0.24284465697753363, 0.07558232995370391, 0.16903906861362336, 0.1186067412841262, 0.17259667376572496, 0.2213305294052879] \n",
       "3  0.051213  0.389795    0.131384      [0.05425825934348524, 0.19139141595587986, 0.09869162365766704, 0.27476310180423524, 0.16581580043975436, 0.2150797987989784]\n",
       "4  0.010418  0.453962    0.022950      [0.0911606195984837, 0.24414633884271253, 0.13606032908716834, 0.07754506319337028, 0.15102577822124463, 0.3000618710570206] "
      ]
     },
     "execution_count": 65,
     "metadata": {},
     "output_type": "execute_result"
    }
   ],
   "source": [
    "# Let's create our \"Master Data Frame\", with the weights, the returns, the volatility, and the Sharpe Ratio\n",
    "simulations_data = [ret_arr, vol_arr, sharpe_arr, all_weights]\n",
    "\n",
    "# Create a DataFrame from it, then Transpose it so it looks like our original one.\n",
    "simulations_df = pd.DataFrame(data=simulations_data).T\n",
    "\n",
    "# Give the columns the Proper Names.\n",
    "simulations_df.columns = ['Returns', 'Volatility', 'Sharpe Ratio', 'Portfolio Weights']\n",
    "\n",
    "# Make sure the data types are correct, we don't want our floats to be strings.\n",
    "simulations_df = simulations_df.infer_objects()\n",
    "\n",
    "simulations_df.head()"
   ]
  },
  {
   "cell_type": "markdown",
   "id": "d7b872f9",
   "metadata": {},
   "source": [
    "### Grabbing the Important Metrics\n",
    "\n",
    "**`max_sharpe_ratio`:** This is Sharpe Ratio where the excess return of the portfolio is greatest given the amount of risk we are taking on. In other words, these portfolios are \"best\" because they provide the largest risk-adjusted returns.\n",
    "\n",
    "**`min_volatility`:** These are the weights where the overall volatility of the portfolio is at it's lowest. In other words, if you want to take on the least amount of risk, these are the weights you would want to have. "
   ]
  },
  {
   "cell_type": "code",
   "execution_count": 70,
   "id": "33397294",
   "metadata": {},
   "outputs": [
    {
     "name": "stdout",
     "output_type": "stream",
     "text": [
      "\n",
      "================================================================================\n",
      "MAX SHARPE RATIO:\n",
      "--------------------------------------------------------------------------------\n",
      "Returns              0.165343                                                                                                                        \n",
      "Volatility           0.291222                                                                                                                        \n",
      "Sharpe Ratio         0.567755                                                                                                                        \n",
      "Portfolio Weights    [0.25356877302148945, 0.010627637935533044, 0.0011785495421920082, 0.15387190616798102, 0.577131546194449, 0.003621587138355487]\n",
      "Name: 2723, dtype: object\n",
      "--------------------------------------------------------------------------------\n"
     ]
    }
   ],
   "source": [
    "max_sharpe_ratio = simulations_df.loc[simulations_df['Sharpe Ratio'].idxmax()]\n",
    "\n",
    "print('')\n",
    "print('='*80)\n",
    "print('MAX SHARPE RATIO:')\n",
    "print('-'*80)\n",
    "print(max_sharpe_ratio)\n",
    "print('-'*80)"
   ]
  },
  {
   "cell_type": "code",
   "execution_count": 71,
   "id": "44b393c9",
   "metadata": {},
   "outputs": [
    {
     "name": "stdout",
     "output_type": "stream",
     "text": [
      "\n",
      "================================================================================\n",
      "MIN VOLATILITY:\n",
      "--------------------------------------------------------------------------------\n",
      "Returns              0.15261                                                                                                                          \n",
      "Volatility           0.290849                                                                                                                         \n",
      "Sharpe Ratio         0.524704                                                                                                                         \n",
      "Portfolio Weights    [0.19961213707555278, 0.013596448286011475, 0.005093923130234636, 0.30964496520514867, 0.42889604911671464, 0.043156477186337854]\n",
      "Name: 1310, dtype: object\n",
      "--------------------------------------------------------------------------------\n"
     ]
    }
   ],
   "source": [
    "min_volatility = simulations_df.loc[simulations_df['Volatility'].idxmin()]\n",
    "\n",
    "print('')\n",
    "print('='*80)\n",
    "print('MIN VOLATILITY:')\n",
    "print('-'*80)\n",
    "print(min_volatility)\n",
    "print('-'*80)"
   ]
  },
  {
   "cell_type": "markdown",
   "id": "44521407",
   "metadata": {},
   "source": [
    "### Plotting: Risk v/s Returns"
   ]
  },
  {
   "cell_type": "code",
   "execution_count": 73,
   "id": "da579aa7",
   "metadata": {},
   "outputs": [
    {
     "data": {
      "image/png": "[encoded data removed]",
      "text/plain": [
       "<Figure size 432x288 with 2 Axes>"
      ]
     },
     "metadata": {
      "needs_background": "light"
     },
     "output_type": "display_data"
    }
   ],
   "source": [
    "%matplotlib inline\n",
    "\n",
    "plt.scatter(\n",
    "    y=simulations_df['Returns'],\n",
    "    x=simulations_df['Volatility'],\n",
    "    c=simulations_df['Sharpe Ratio'],\n",
    "    cmap='RdYlBu'\n",
    ")\n",
    "\n",
    "plt.title('Portfolio Returns Vs. Risk')\n",
    "plt.colorbar(label='Sharpe Ratio')\n",
    "plt.xlabel('Standard Deviation')\n",
    "plt.ylabel('Returns')\n",
    "\n",
    "# Plot the Max Sharpe Ratio, using a `Red Star`.\n",
    "plt.scatter(\n",
    "    max_sharpe_ratio[1],\n",
    "    max_sharpe_ratio[0],\n",
    "    marker=(5, 1, 0),\n",
    "    color='r',\n",
    "    s=600\n",
    ")\n",
    "\n",
    "# Plot the Min Volatility, using a `Blue Star`.\n",
    "plt.scatter(\n",
    "    min_volatility[1],\n",
    "    min_volatility[0],\n",
    "    marker=(5, 1, 0),\n",
    "    color='b',\n",
    "    s=600\n",
    ")\n",
    "\n",
    "plt.show()"
   ]
  },
  {
   "cell_type": "markdown",
   "id": "2884b264",
   "metadata": {},
   "source": [
    "***\n",
    "<h3 style=\"color:blue;\"> (6) Portfolio Optimization : Using Scipy Optimization Module </h3>"
   ]
  },
  {
   "cell_type": "markdown",
   "id": "a0fe2aac",
   "metadata": {},
   "source": [
    "The draw back to using the Monte Carlo Simulation is that it's not the most efficient way to find the optimal values. Instead we can use mathematical techniques to easily arrive at the optimal values. We run the optimization using the `scipy.optimization` module.\n",
    "\n",
    "The first function is the `get_metrics()` function which will return the metrics for a given set of weights provided. In other words, think of it as a \"lookup function\" where we can return the results of a certain weight. The second function is the `grab_negative_sharpe()` function which is used as a minimization function. The minimization function is used to help find the values which results in the lowest sharpe ratio. In Scipy’s optimize function, there’s no `maximize`, so as an objective function you need to pass something that should be minimized.\n",
    "\n",
    "The third function is `check_sum` function which is used as a constraint. What is will do is make sure that the weights that are passed through meet the constraint that we must have a portfolio allocation equal 100%, not more and not less."
   ]
  },
  {
   "cell_type": "code",
   "execution_count": 74,
   "id": "e1399423",
   "metadata": {},
   "outputs": [],
   "source": [
    "def get_metrics(weights: list) -> np.array:\n",
    "    \n",
    "    weights = np.array(weights)\n",
    "\n",
    "    ret = np.sum(log_return.mean() * weights) * 252\n",
    "    vol = np.sqrt(\n",
    "        np.dot(weights.T, np.dot(log_return.cov() * 252, weights))\n",
    "    )\n",
    "    sr = ret / vol\n",
    "\n",
    "    return np.array([ret, vol, sr])"
   ]
  },
  {
   "cell_type": "code",
   "execution_count": 101,
   "id": "6afc1c81",
   "metadata": {},
   "outputs": [],
   "source": [
    "def grab_negative_sharpe(weights: list) -> np.array:\n",
    "    return -(1 + get_metrics(weights)[2]) \n",
    "\n",
    "def grab_volatility(weights: list) -> np.array:\n",
    "    return get_metrics(weights)[1]\n",
    "\n",
    "def check_sum(weights: list) -> float:\n",
    "    return np.sum(weights) - 1"
   ]
  },
  {
   "cell_type": "markdown",
   "id": "0b77abc2",
   "metadata": {},
   "source": [
    "***\n",
    "Let's run the optimization using the `scipy.optimization` module. This module has a function called `minimize` which we can use to help our optimal values. we can run the optimization by passing through the arguments defined and defining the `method` as `SLSQP` which is short for `Sequential Least Squares Programming`."
   ]
  },
  {
   "cell_type": "code",
   "execution_count": 102,
   "id": "999abc5d",
   "metadata": {},
   "outputs": [],
   "source": [
    "# Define the boundaries for each symbol. Remember I can only invest up to 100% of my capital into a single asset.\n",
    "bounds = tuple((0, 1) for symbol in range(number_of_assets))\n",
    "\n",
    "# Define the constraints, here I'm saying that the sum of each weight must not exceed 100%.\n",
    "constraints = ({'type': 'eq', 'fun': check_sum})\n",
    "\n",
    "# We need to create an initial guess to start with, and usually the best initial guess is just an even distribution.\n",
    "init_guess = number_of_assets * [1 / number_of_assets]"
   ]
  },
  {
   "cell_type": "markdown",
   "id": "7ab40a49",
   "metadata": {},
   "source": [
    "### Maximizing Sharpe Ratio"
   ]
  },
  {
   "cell_type": "code",
   "execution_count": 103,
   "id": "1c6b6680",
   "metadata": {},
   "outputs": [],
   "source": [
    "# Perform the operation to minimize the risk.\n",
    "\n",
    "optimized_sharpe = sci_opt.minimize(\n",
    "    grab_negative_sharpe, # minimize this.\n",
    "    init_guess, # Start with these values.\n",
    "    method='SLSQP',\n",
    "    bounds=bounds, # don't exceed these bounds.\n",
    "    constraints=constraints # make sure you don't exceed the 100% constraint.\n",
    ")"
   ]
  },
  {
   "cell_type": "code",
   "execution_count": 104,
   "id": "dfc97a0c",
   "metadata": {},
   "outputs": [
    {
     "name": "stdout",
     "output_type": "stream",
     "text": [
      "\n",
      "==========================================================================================\n",
      "OPTIMIZED SHARPE RATIO:\n",
      "------------------------------------------------------------------------------------------\n",
      "     fun: -1.7962099152537103\n",
      "     jac: array([ 0.41213581,  0.98618677,  1.21474755,  0.09539299, -0.        ,\n",
      "        0.53260311])\n",
      " message: 'Optimization terminated successfully'\n",
      "    nfev: 28\n",
      "     nit: 4\n",
      "    njev: 4\n",
      "  status: 0\n",
      " success: True\n",
      "       x: array([1.59990393e-16, 7.77383541e-16, 4.84604742e-16, 0.00000000e+00,\n",
      "       1.00000000e+00, 5.23484780e-16])\n",
      "------------------------------------------------------------------------------------------\n"
     ]
    }
   ],
   "source": [
    "print('')\n",
    "print('='*90)\n",
    "print('OPTIMIZED SHARPE RATIO:')\n",
    "print('-'*90)\n",
    "print(optimized_sharpe)\n",
    "print('-'*90)"
   ]
  },
  {
   "cell_type": "markdown",
   "id": "c88aeff0",
   "metadata": {},
   "source": [
    "### Grabbing the Important Metrics"
   ]
  },
  {
   "cell_type": "code",
   "execution_count": 105,
   "id": "b520462c",
   "metadata": {},
   "outputs": [],
   "source": [
    "optimized_metrics = get_metrics(weights=optimized_sharpe.x)"
   ]
  },
  {
   "cell_type": "code",
   "execution_count": 106,
   "id": "3f12eb84",
   "metadata": {},
   "outputs": [
    {
     "name": "stdout",
     "output_type": "stream",
     "text": [
      "\n",
      "================================================================================\n",
      "OPTIMIZED WEIGHTS:\n",
      "--------------------------------------------------------------------------------\n",
      "[1.59990393e-16 7.77383541e-16 4.84604742e-16 0.00000000e+00\n",
      " 1.00000000e+00 5.23484780e-16]\n",
      "--------------------------------------------------------------------------------\n"
     ]
    }
   ],
   "source": [
    "print('')\n",
    "print('='*80)\n",
    "print('OPTIMIZED WEIGHTS:')\n",
    "print('-'*80)\n",
    "print(optimized_sharpe.x)\n",
    "print('-'*80)"
   ]
  },
  {
   "cell_type": "code",
   "execution_count": 107,
   "id": "6252efc5",
   "metadata": {},
   "outputs": [
    {
     "name": "stdout",
     "output_type": "stream",
     "text": [
      "\n",
      "================================================================================\n",
      "OPTIMIZED METRICS:\n",
      "--------------------------------------------------------------------------------\n",
      "[0.22382411 0.28111194 0.79620992]\n",
      "--------------------------------------------------------------------------------\n"
     ]
    }
   ],
   "source": [
    "print('')\n",
    "print('='*80)\n",
    "print('OPTIMIZED METRICS:')\n",
    "print('-'*80)\n",
    "print(optimized_metrics)\n",
    "print('-'*80)"
   ]
  },
  {
   "cell_type": "markdown",
   "id": "729b19b1",
   "metadata": {},
   "source": [
    "### Minimizing Risk (Volatility)"
   ]
  },
  {
   "cell_type": "code",
   "execution_count": 96,
   "id": "b18dcd9a",
   "metadata": {},
   "outputs": [],
   "source": [
    "# Perform the operation to minimize the risk.\n",
    "\n",
    "optimized_volatility = sci_opt.minimize(\n",
    "    grab_volatility, # minimize this.\n",
    "    init_guess, # Start with these values.\n",
    "    method='SLSQP',\n",
    "    bounds=bounds, # don't exceed these bounds.\n",
    "    constraints=constraints # make sure you don't exceed the 100% constraint.\n",
    ")"
   ]
  },
  {
   "cell_type": "code",
   "execution_count": 97,
   "id": "cf24060f",
   "metadata": {},
   "outputs": [
    {
     "name": "stdout",
     "output_type": "stream",
     "text": [
      "\n",
      "================================================================================\n",
      "OPTIMIZED VOLATILITY RATIO:\n",
      "--------------------------------------------------------------------------------\n",
      "     fun: 0.2738308506943697\n",
      "     jac: array([0.27380429, 0.27398584, 0.27392484, 0.27383472, 0.27383466,\n",
      "       0.27362216])\n",
      " message: 'Optimization terminated successfully'\n",
      "    nfev: 56\n",
      "     nit: 8\n",
      "    njev: 8\n",
      "  status: 0\n",
      " success: True\n",
      "       x: array([0.06093243, 0.00994952, 0.01096501, 0.13513252, 0.76205518,\n",
      "       0.02096535])\n",
      "--------------------------------------------------------------------------------\n"
     ]
    }
   ],
   "source": [
    "print('')\n",
    "print('='*80)\n",
    "print('OPTIMIZED VOLATILITY RATIO:')\n",
    "print('-'*80)\n",
    "print(optimized_volatility)\n",
    "print('-'*80)"
   ]
  },
  {
   "cell_type": "markdown",
   "id": "7bc138f0",
   "metadata": {},
   "source": [
    "### Grabbing the Important Metrics"
   ]
  },
  {
   "cell_type": "code",
   "execution_count": 98,
   "id": "28bb2d71",
   "metadata": {},
   "outputs": [],
   "source": [
    "optimized_metrics = get_metrics(weights=optimized_volatility.x)"
   ]
  },
  {
   "cell_type": "code",
   "execution_count": 99,
   "id": "a2a58df2",
   "metadata": {},
   "outputs": [
    {
     "name": "stdout",
     "output_type": "stream",
     "text": [
      "\n",
      "================================================================================\n",
      "OPTIMIZED WEIGHTS:\n",
      "--------------------------------------------------------------------------------\n",
      "[0.06093243 0.00994952 0.01096501 0.13513252 0.76205518 0.02096535]\n",
      "--------------------------------------------------------------------------------\n"
     ]
    }
   ],
   "source": [
    "print('')\n",
    "print('='*80)\n",
    "print('OPTIMIZED WEIGHTS:')\n",
    "print('-'*80)\n",
    "print(optimized_volatility.x)\n",
    "print('-'*80)"
   ]
  },
  {
   "cell_type": "code",
   "execution_count": 100,
   "id": "40c8884c",
   "metadata": {},
   "outputs": [
    {
     "name": "stdout",
     "output_type": "stream",
     "text": [
      "\n",
      "================================================================================\n",
      "OPTIMIZED METRICS:\n",
      "--------------------------------------------------------------------------------\n",
      "[0.19205796 0.27383085 0.70137444]\n",
      "--------------------------------------------------------------------------------\n"
     ]
    }
   ],
   "source": [
    "print('')\n",
    "print('='*80)\n",
    "print('OPTIMIZED METRICS:')\n",
    "print('-'*80)\n",
    "print(optimized_metrics)\n",
    "print('-'*80)"
   ]
  },
  {
   "cell_type": "code",
   "execution_count": null,
   "id": "845f9fc4",
   "metadata": {},
   "outputs": [],
   "source": []
  }
 ],
 "metadata": {
  "kernelspec": {
   "display_name": "Python 3",
   "language": "python",
   "name": "python3"
  },
  "language_info": {
   "codemirror_mode": {
    "name": "ipython",
    "version": 3
   },
   "file_extension": ".py",
   "mimetype": "text/x-python",
   "name": "python",
   "nbconvert_exporter": "python",
   "pygments_lexer": "ipython3",
   "version": "3.8.8"
  },
  "varInspector": {
   "cols": {
    "lenName": 16,
    "lenType": 16,
    "lenVar": 40
   },
   "kernels_config": {
    "python": {
     "delete_cmd_postfix": "",
     "delete_cmd_prefix": "del ",
     "library": "var_list.py",
     "varRefreshCmd": "print(var_dic_list())"
    },
    "r": {
     "delete_cmd_postfix": ") ",
     "delete_cmd_prefix": "rm(",
     "library": "var_list.r",
     "varRefreshCmd": "cat(var_dic_list()) "
    }
   },
   "types_to_exclude": [
    "module",
    "function",
    "builtin_function_or_method",
    "instance",
    "_Feature"
   ],
   "window_display": false
  }
 },
 "nbformat": 4,
 "nbformat_minor": 5
}
