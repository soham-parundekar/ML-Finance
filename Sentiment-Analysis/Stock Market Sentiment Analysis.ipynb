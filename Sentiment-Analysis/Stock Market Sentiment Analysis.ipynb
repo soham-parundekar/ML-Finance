{
 "cells": [
  {
   "cell_type": "markdown",
   "id": "65513f08",
   "metadata": {},
   "source": [
    "<h1><center><u> Stock Market Sentiment Analysis </u></center></h1>"
   ]
  },
  {
   "cell_type": "markdown",
   "id": "72183b35",
   "metadata": {},
   "source": [
    "<h3 style=\"color:blue;\"> (1) Import Python Libraries </h3>"
   ]
  },
  {
   "cell_type": "code",
   "execution_count": 45,
   "id": "0e51c47a",
   "metadata": {},
   "outputs": [],
   "source": [
    "import numpy as np\n",
    "import pandas as pd\n",
    "\n",
    "from urllib.request import urlopen, Request\n",
    "from bs4 import BeautifulSoup\n",
    "\n",
    "import nltk\n",
    "from nltk.sentiment.vader import SentimentIntensityAnalyzer\n",
    "\n",
    "import matplotlib.pyplot as plt\n",
    "%matplotlib inline"
   ]
  },
  {
   "cell_type": "markdown",
   "id": "819222c3",
   "metadata": {},
   "source": [
    "<h3 style=\"color:blue;\"> (2) Loading the Data Set </h3>"
   ]
  },
  {
   "cell_type": "code",
   "execution_count": 2,
   "id": "a4175e28",
   "metadata": {},
   "outputs": [],
   "source": [
    "finviz_url = 'https://finviz.com/quote.ashx?t='"
   ]
  },
  {
   "cell_type": "code",
   "execution_count": 76,
   "id": "57cc5591",
   "metadata": {},
   "outputs": [],
   "source": [
    "tickers = ['AMZN', 'META', 'AAPL']"
   ]
  },
  {
   "cell_type": "code",
   "execution_count": 77,
   "id": "883d928a",
   "metadata": {},
   "outputs": [],
   "source": [
    "news_tables = {}\n",
    "\n",
    "for ticker in tickers:\n",
    "    \n",
    "    url = finviz_url + ticker\n",
    "    \n",
    "    req = Request(url=url, headers={'user-agent':'my-app'})\n",
    "    response = urlopen(req)\n",
    "    html = BeautifulSoup(response, 'html')\n",
    "    \n",
    "    news_table = html.find(id='news-table')\n",
    "    news_tables[ticker] = news_table"
   ]
  },
  {
   "cell_type": "markdown",
   "id": "06d0970c",
   "metadata": {},
   "source": [
    "<h3 style=\"color:blue;\"> (3) Parsing and Manipulating Data </h3>"
   ]
  },
  {
   "cell_type": "code",
   "execution_count": 78,
   "id": "95d0ff0c",
   "metadata": {},
   "outputs": [],
   "source": [
    "parsed_data = []\n",
    "\n",
    "for ticker, news_table in news_tables.items():\n",
    "    \n",
    "    for row in news_table.findAll('tr'):\n",
    "        \n",
    "        title = row.a.text\n",
    "        timestamp = row.td.text.strip()\n",
    "        date_data = timestamp.split(' ')\n",
    "        \n",
    "        if len(date_data) == 1:\n",
    "            time = date_data[0]\n",
    "            date = \"\"\n",
    "        else:\n",
    "            date = date_data[0]\n",
    "            time = date_data[1]\n",
    "            \n",
    "        parsed_data.append([ticker, date, time, title])"
   ]
  },
  {
   "cell_type": "markdown",
   "id": "9df08c57",
   "metadata": {},
   "source": [
    "<h3 style=\"color:blue;\"> (4) Applying Sentiment Analysis </h3>"
   ]
  },
  {
   "cell_type": "code",
   "execution_count": 79,
   "id": "1291679b",
   "metadata": {},
   "outputs": [
    {
     "data": {
      "text/html": [
       "<div>\n",
       "<style scoped>\n",
       "    .dataframe tbody tr th:only-of-type {\n",
       "        vertical-align: middle;\n",
       "    }\n",
       "\n",
       "    .dataframe tbody tr th {\n",
       "        vertical-align: top;\n",
       "    }\n",
       "\n",
       "    .dataframe thead th {\n",
       "        text-align: right;\n",
       "    }\n",
       "</style>\n",
       "<table border=\"1\" class=\"dataframe\">\n",
       "  <thead>\n",
       "    <tr style=\"text-align: right;\">\n",
       "      <th></th>\n",
       "      <th>ticker</th>\n",
       "      <th>date</th>\n",
       "      <th>time</th>\n",
       "      <th>title</th>\n",
       "    </tr>\n",
       "  </thead>\n",
       "  <tbody>\n",
       "    <tr>\n",
       "      <th>0</th>\n",
       "      <td>AMZN</td>\n",
       "      <td>Aug-23-23</td>\n",
       "      <td>12:39PM</td>\n",
       "      <td>Generative AI Battle Forms. Should Big Tech Co...</td>\n",
       "    </tr>\n",
       "    <tr>\n",
       "      <th>1</th>\n",
       "      <td>AMZN</td>\n",
       "      <td></td>\n",
       "      <td>10:30AM</td>\n",
       "      <td>3 Top Growth Stocks to Buy Before the Next Bul...</td>\n",
       "    </tr>\n",
       "    <tr>\n",
       "      <th>2</th>\n",
       "      <td>AMZN</td>\n",
       "      <td></td>\n",
       "      <td>10:15AM</td>\n",
       "      <td>2 Top Stocks Billionaires Can't Stop Buying in...</td>\n",
       "    </tr>\n",
       "    <tr>\n",
       "      <th>3</th>\n",
       "      <td>AMZN</td>\n",
       "      <td></td>\n",
       "      <td>09:58AM</td>\n",
       "      <td>Billionaire Ken Fisher and Corporate Insiders ...</td>\n",
       "    </tr>\n",
       "    <tr>\n",
       "      <th>4</th>\n",
       "      <td>AMZN</td>\n",
       "      <td></td>\n",
       "      <td>09:42AM</td>\n",
       "      <td>Qatar Wealth Fund Invests $1 Billion in Ambani...</td>\n",
       "    </tr>\n",
       "    <tr>\n",
       "      <th>...</th>\n",
       "      <td>...</td>\n",
       "      <td>...</td>\n",
       "      <td>...</td>\n",
       "      <td>...</td>\n",
       "    </tr>\n",
       "    <tr>\n",
       "      <th>295</th>\n",
       "      <td>AAPL</td>\n",
       "      <td></td>\n",
       "      <td>10:56AM</td>\n",
       "      <td>This Wall Street Strategist Predicted Apple's ...</td>\n",
       "    </tr>\n",
       "    <tr>\n",
       "      <th>296</th>\n",
       "      <td>AAPL</td>\n",
       "      <td></td>\n",
       "      <td>10:24AM</td>\n",
       "      <td>U.S. Steel, the First $1 Billion Company, Is N...</td>\n",
       "    </tr>\n",
       "    <tr>\n",
       "      <th>297</th>\n",
       "      <td>AAPL</td>\n",
       "      <td></td>\n",
       "      <td>10:07AM</td>\n",
       "      <td>2 Growth Stocks to Buy in August</td>\n",
       "    </tr>\n",
       "    <tr>\n",
       "      <th>298</th>\n",
       "      <td>AAPL</td>\n",
       "      <td></td>\n",
       "      <td>09:53AM</td>\n",
       "      <td>Is Apple Stock a Buy?</td>\n",
       "    </tr>\n",
       "    <tr>\n",
       "      <th>299</th>\n",
       "      <td>AAPL</td>\n",
       "      <td></td>\n",
       "      <td>09:51AM</td>\n",
       "      <td>Amazons $593 Billion Rally Faces Endurance Test</td>\n",
       "    </tr>\n",
       "  </tbody>\n",
       "</table>\n",
       "<p>300 rows × 4 columns</p>\n",
       "</div>"
      ],
      "text/plain": [
       "    ticker       date     time  \\\n",
       "0     AMZN  Aug-23-23  12:39PM   \n",
       "1     AMZN             10:30AM   \n",
       "2     AMZN             10:15AM   \n",
       "3     AMZN             09:58AM   \n",
       "4     AMZN             09:42AM   \n",
       "..     ...        ...      ...   \n",
       "295   AAPL             10:56AM   \n",
       "296   AAPL             10:24AM   \n",
       "297   AAPL             10:07AM   \n",
       "298   AAPL             09:53AM   \n",
       "299   AAPL             09:51AM   \n",
       "\n",
       "                                                 title  \n",
       "0    Generative AI Battle Forms. Should Big Tech Co...  \n",
       "1    3 Top Growth Stocks to Buy Before the Next Bul...  \n",
       "2    2 Top Stocks Billionaires Can't Stop Buying in...  \n",
       "3    Billionaire Ken Fisher and Corporate Insiders ...  \n",
       "4    Qatar Wealth Fund Invests $1 Billion in Ambani...  \n",
       "..                                                 ...  \n",
       "295  This Wall Street Strategist Predicted Apple's ...  \n",
       "296  U.S. Steel, the First $1 Billion Company, Is N...  \n",
       "297                   2 Growth Stocks to Buy in August  \n",
       "298                              Is Apple Stock a Buy?  \n",
       "299    Amazons $593 Billion Rally Faces Endurance Test  \n",
       "\n",
       "[300 rows x 4 columns]"
      ]
     },
     "execution_count": 79,
     "metadata": {},
     "output_type": "execute_result"
    }
   ],
   "source": [
    "df = pd.DataFrame(parsed_data, columns=['ticker', 'date', 'time', 'title'])\n",
    "df"
   ]
  },
  {
   "cell_type": "code",
   "execution_count": 53,
   "id": "c1750bac",
   "metadata": {},
   "outputs": [
    {
     "name": "stderr",
     "output_type": "stream",
     "text": [
      "[nltk_data] Downloading package vader_lexicon to\n",
      "[nltk_data]     C:\\Users\\SHBHAM\\AppData\\Roaming\\nltk_data...\n",
      "[nltk_data]   Package vader_lexicon is already up-to-date!\n"
     ]
    }
   ],
   "source": [
    "nltk.download('vader_lexicon')\n",
    "vader = SentimentIntensityAnalyzer()"
   ]
  },
  {
   "cell_type": "code",
   "execution_count": 80,
   "id": "cb8d1a80",
   "metadata": {},
   "outputs": [
    {
     "data": {
      "text/html": [
       "<div>\n",
       "<style scoped>\n",
       "    .dataframe tbody tr th:only-of-type {\n",
       "        vertical-align: middle;\n",
       "    }\n",
       "\n",
       "    .dataframe tbody tr th {\n",
       "        vertical-align: top;\n",
       "    }\n",
       "\n",
       "    .dataframe thead th {\n",
       "        text-align: right;\n",
       "    }\n",
       "</style>\n",
       "<table border=\"1\" class=\"dataframe\">\n",
       "  <thead>\n",
       "    <tr style=\"text-align: right;\">\n",
       "      <th></th>\n",
       "      <th>ticker</th>\n",
       "      <th>date</th>\n",
       "      <th>time</th>\n",
       "      <th>title</th>\n",
       "      <th>compound</th>\n",
       "    </tr>\n",
       "  </thead>\n",
       "  <tbody>\n",
       "    <tr>\n",
       "      <th>0</th>\n",
       "      <td>AMZN</td>\n",
       "      <td>Aug-23-23</td>\n",
       "      <td>12:39PM</td>\n",
       "      <td>Generative AI Battle Forms. Should Big Tech Co...</td>\n",
       "      <td>-0.3818</td>\n",
       "    </tr>\n",
       "    <tr>\n",
       "      <th>1</th>\n",
       "      <td>AMZN</td>\n",
       "      <td></td>\n",
       "      <td>10:30AM</td>\n",
       "      <td>3 Top Growth Stocks to Buy Before the Next Bul...</td>\n",
       "      <td>0.5267</td>\n",
       "    </tr>\n",
       "    <tr>\n",
       "      <th>2</th>\n",
       "      <td>AMZN</td>\n",
       "      <td></td>\n",
       "      <td>10:15AM</td>\n",
       "      <td>2 Top Stocks Billionaires Can't Stop Buying in...</td>\n",
       "      <td>0.3995</td>\n",
       "    </tr>\n",
       "    <tr>\n",
       "      <th>3</th>\n",
       "      <td>AMZN</td>\n",
       "      <td></td>\n",
       "      <td>09:58AM</td>\n",
       "      <td>Billionaire Ken Fisher and Corporate Insiders ...</td>\n",
       "      <td>0.0000</td>\n",
       "    </tr>\n",
       "    <tr>\n",
       "      <th>4</th>\n",
       "      <td>AMZN</td>\n",
       "      <td></td>\n",
       "      <td>09:42AM</td>\n",
       "      <td>Qatar Wealth Fund Invests $1 Billion in Ambani...</td>\n",
       "      <td>0.4939</td>\n",
       "    </tr>\n",
       "    <tr>\n",
       "      <th>...</th>\n",
       "      <td>...</td>\n",
       "      <td>...</td>\n",
       "      <td>...</td>\n",
       "      <td>...</td>\n",
       "      <td>...</td>\n",
       "    </tr>\n",
       "    <tr>\n",
       "      <th>295</th>\n",
       "      <td>AAPL</td>\n",
       "      <td></td>\n",
       "      <td>10:56AM</td>\n",
       "      <td>This Wall Street Strategist Predicted Apple's ...</td>\n",
       "      <td>0.8591</td>\n",
       "    </tr>\n",
       "    <tr>\n",
       "      <th>296</th>\n",
       "      <td>AAPL</td>\n",
       "      <td></td>\n",
       "      <td>10:24AM</td>\n",
       "      <td>U.S. Steel, the First $1 Billion Company, Is N...</td>\n",
       "      <td>0.0000</td>\n",
       "    </tr>\n",
       "    <tr>\n",
       "      <th>297</th>\n",
       "      <td>AAPL</td>\n",
       "      <td></td>\n",
       "      <td>10:07AM</td>\n",
       "      <td>2 Growth Stocks to Buy in August</td>\n",
       "      <td>0.3818</td>\n",
       "    </tr>\n",
       "    <tr>\n",
       "      <th>298</th>\n",
       "      <td>AAPL</td>\n",
       "      <td></td>\n",
       "      <td>09:53AM</td>\n",
       "      <td>Is Apple Stock a Buy?</td>\n",
       "      <td>0.0000</td>\n",
       "    </tr>\n",
       "    <tr>\n",
       "      <th>299</th>\n",
       "      <td>AAPL</td>\n",
       "      <td></td>\n",
       "      <td>09:51AM</td>\n",
       "      <td>Amazons $593 Billion Rally Faces Endurance Test</td>\n",
       "      <td>-0.0258</td>\n",
       "    </tr>\n",
       "  </tbody>\n",
       "</table>\n",
       "<p>300 rows × 5 columns</p>\n",
       "</div>"
      ],
      "text/plain": [
       "    ticker       date     time  \\\n",
       "0     AMZN  Aug-23-23  12:39PM   \n",
       "1     AMZN             10:30AM   \n",
       "2     AMZN             10:15AM   \n",
       "3     AMZN             09:58AM   \n",
       "4     AMZN             09:42AM   \n",
       "..     ...        ...      ...   \n",
       "295   AAPL             10:56AM   \n",
       "296   AAPL             10:24AM   \n",
       "297   AAPL             10:07AM   \n",
       "298   AAPL             09:53AM   \n",
       "299   AAPL             09:51AM   \n",
       "\n",
       "                                                 title  compound  \n",
       "0    Generative AI Battle Forms. Should Big Tech Co...   -0.3818  \n",
       "1    3 Top Growth Stocks to Buy Before the Next Bul...    0.5267  \n",
       "2    2 Top Stocks Billionaires Can't Stop Buying in...    0.3995  \n",
       "3    Billionaire Ken Fisher and Corporate Insiders ...    0.0000  \n",
       "4    Qatar Wealth Fund Invests $1 Billion in Ambani...    0.4939  \n",
       "..                                                 ...       ...  \n",
       "295  This Wall Street Strategist Predicted Apple's ...    0.8591  \n",
       "296  U.S. Steel, the First $1 Billion Company, Is N...    0.0000  \n",
       "297                   2 Growth Stocks to Buy in August    0.3818  \n",
       "298                              Is Apple Stock a Buy?    0.0000  \n",
       "299    Amazons $593 Billion Rally Faces Endurance Test   -0.0258  \n",
       "\n",
       "[300 rows x 5 columns]"
      ]
     },
     "execution_count": 80,
     "metadata": {},
     "output_type": "execute_result"
    }
   ],
   "source": [
    "f = lambda title: vader.polarity_scores(title)['compound']\n",
    "df['compound'] = df['title'].apply(f)\n",
    "df"
   ]
  },
  {
   "cell_type": "markdown",
   "id": "2aae7f5b",
   "metadata": {},
   "source": [
    "<h3 style=\"color:blue;\"> (5) Visualization of Sentiment Analysis </h3>"
   ]
  },
  {
   "cell_type": "code",
   "execution_count": 81,
   "id": "bcc39dcd",
   "metadata": {},
   "outputs": [],
   "source": [
    "df['date'] = pd.to_datetime(df.date).dt.date"
   ]
  },
  {
   "cell_type": "code",
   "execution_count": 82,
   "id": "76905d46",
   "metadata": {},
   "outputs": [
    {
     "data": {
      "text/html": [
       "<div>\n",
       "<style scoped>\n",
       "    .dataframe tbody tr th:only-of-type {\n",
       "        vertical-align: middle;\n",
       "    }\n",
       "\n",
       "    .dataframe tbody tr th {\n",
       "        vertical-align: top;\n",
       "    }\n",
       "\n",
       "    .dataframe thead th {\n",
       "        text-align: right;\n",
       "    }\n",
       "</style>\n",
       "<table border=\"1\" class=\"dataframe\">\n",
       "  <thead>\n",
       "    <tr style=\"text-align: right;\">\n",
       "      <th>ticker</th>\n",
       "      <th>AAPL</th>\n",
       "      <th>AMZN</th>\n",
       "      <th>META</th>\n",
       "    </tr>\n",
       "    <tr>\n",
       "      <th>date</th>\n",
       "      <th></th>\n",
       "      <th></th>\n",
       "      <th></th>\n",
       "    </tr>\n",
       "  </thead>\n",
       "  <tbody>\n",
       "    <tr>\n",
       "      <th>2023-08-12</th>\n",
       "      <td>NaN</td>\n",
       "      <td>NaN</td>\n",
       "      <td>-0.5413</td>\n",
       "    </tr>\n",
       "    <tr>\n",
       "      <th>2023-08-13</th>\n",
       "      <td>NaN</td>\n",
       "      <td>NaN</td>\n",
       "      <td>0.0000</td>\n",
       "    </tr>\n",
       "    <tr>\n",
       "      <th>2023-08-14</th>\n",
       "      <td>NaN</td>\n",
       "      <td>NaN</td>\n",
       "      <td>0.0000</td>\n",
       "    </tr>\n",
       "    <tr>\n",
       "      <th>2023-08-15</th>\n",
       "      <td>0.4939</td>\n",
       "      <td>NaN</td>\n",
       "      <td>0.0000</td>\n",
       "    </tr>\n",
       "    <tr>\n",
       "      <th>2023-08-16</th>\n",
       "      <td>0.3182</td>\n",
       "      <td>NaN</td>\n",
       "      <td>0.0000</td>\n",
       "    </tr>\n",
       "    <tr>\n",
       "      <th>2023-08-17</th>\n",
       "      <td>0.0000</td>\n",
       "      <td>0.0000</td>\n",
       "      <td>NaN</td>\n",
       "    </tr>\n",
       "    <tr>\n",
       "      <th>2023-08-18</th>\n",
       "      <td>-0.2500</td>\n",
       "      <td>-0.2960</td>\n",
       "      <td>-0.3400</td>\n",
       "    </tr>\n",
       "    <tr>\n",
       "      <th>2023-08-19</th>\n",
       "      <td>0.7845</td>\n",
       "      <td>0.7845</td>\n",
       "      <td>0.0000</td>\n",
       "    </tr>\n",
       "    <tr>\n",
       "      <th>2023-08-20</th>\n",
       "      <td>0.5574</td>\n",
       "      <td>0.3818</td>\n",
       "      <td>0.2960</td>\n",
       "    </tr>\n",
       "    <tr>\n",
       "      <th>2023-08-21</th>\n",
       "      <td>-0.3182</td>\n",
       "      <td>0.6249</td>\n",
       "      <td>0.2023</td>\n",
       "    </tr>\n",
       "    <tr>\n",
       "      <th>2023-08-22</th>\n",
       "      <td>0.0000</td>\n",
       "      <td>-0.6486</td>\n",
       "      <td>0.2023</td>\n",
       "    </tr>\n",
       "    <tr>\n",
       "      <th>2023-08-23</th>\n",
       "      <td>0.0000</td>\n",
       "      <td>-0.3818</td>\n",
       "      <td>-0.4019</td>\n",
       "    </tr>\n",
       "  </tbody>\n",
       "</table>\n",
       "</div>"
      ],
      "text/plain": [
       "ticker        AAPL    AMZN    META\n",
       "date                              \n",
       "2023-08-12     NaN     NaN -0.5413\n",
       "2023-08-13     NaN     NaN  0.0000\n",
       "2023-08-14     NaN     NaN  0.0000\n",
       "2023-08-15  0.4939     NaN  0.0000\n",
       "2023-08-16  0.3182     NaN  0.0000\n",
       "2023-08-17  0.0000  0.0000     NaN\n",
       "2023-08-18 -0.2500 -0.2960 -0.3400\n",
       "2023-08-19  0.7845  0.7845  0.0000\n",
       "2023-08-20  0.5574  0.3818  0.2960\n",
       "2023-08-21 -0.3182  0.6249  0.2023\n",
       "2023-08-22  0.0000 -0.6486  0.2023\n",
       "2023-08-23  0.0000 -0.3818 -0.4019"
      ]
     },
     "execution_count": 82,
     "metadata": {},
     "output_type": "execute_result"
    }
   ],
   "source": [
    "mean_df = df.groupby(['ticker', 'date']).mean()\n",
    "mean_df = mean_df.unstack()\n",
    "mean_df = mean_df.xs('compound', axis='columns').transpose()\n",
    "mean_df"
   ]
  },
  {
   "cell_type": "code",
   "execution_count": 83,
   "id": "e82bf155",
   "metadata": {},
   "outputs": [
    {
     "data": {
      "text/plain": [
       "<Figure size 720x576 with 0 Axes>"
      ]
     },
     "metadata": {},
     "output_type": "display_data"
    },
    {
     "data": {
      "image/png": "[encoded data removed]",
      "text/plain": [
       "<Figure size 432x288 with 1 Axes>"
      ]
     },
     "metadata": {
      "needs_background": "light"
     },
     "output_type": "display_data"
    }
   ],
   "source": [
    "plt.figure(figsize=(10,8))\n",
    "mean_df.plot(kind='bar')\n",
    "plt.show()"
   ]
  }
 ],
 "metadata": {
  "kernelspec": {
   "display_name": "Python 3",
   "language": "python",
   "name": "python3"
  },
  "language_info": {
   "codemirror_mode": {
    "name": "ipython",
    "version": 3
   },
   "file_extension": ".py",
   "mimetype": "text/x-python",
   "name": "python",
   "nbconvert_exporter": "python",
   "pygments_lexer": "ipython3",
   "version": "3.8.8"
  },
  "varInspector": {
   "cols": {
    "lenName": 16,
    "lenType": 16,
    "lenVar": 40
   },
   "kernels_config": {
    "python": {
     "delete_cmd_postfix": "",
     "delete_cmd_prefix": "del ",
     "library": "var_list.py",
     "varRefreshCmd": "print(var_dic_list())"
    },
    "r": {
     "delete_cmd_postfix": ") ",
     "delete_cmd_prefix": "rm(",
     "library": "var_list.r",
     "varRefreshCmd": "cat(var_dic_list()) "
    }
   },
   "types_to_exclude": [
    "module",
    "function",
    "builtin_function_or_method",
    "instance",
    "_Feature"
   ],
   "window_display": false
  }
 },
 "nbformat": 4,
 "nbformat_minor": 5
}
